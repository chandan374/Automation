{
 "cells": [
  {
   "cell_type": "code",
   "execution_count": 7,
   "metadata": {},
   "outputs": [
    {
     "name": "stdout",
     "output_type": "stream",
     "text": [
      "speak\n",
      "jhefw\n",
      "speak\n",
      "Hatim\n",
      "speak\n",
      "jhefw\n",
      "speak\n",
      "when did\n",
      "speak\n",
      "jhefw\n",
      "speak\n",
      "Humko MP3\n",
      "speak\n",
      "MP3 song\n",
      "speak\n",
      "abhi mummy se bolo bhaiya Fail Ho Gaya\n",
      "speak\n",
      "legalize\n",
      "speak\n",
      "teen subject Maybach eyewear\n"
     ]
    }
   ],
   "source": [
    "from selenium import webdriver\n",
    "import speech_recognition as sr\n",
    "import time\n",
    "driver=webdriver.Chrome(r\"C:\\Users\\dell\\Downloads\\chromedriver.exe\")\n",
    "time.sleep(10)\n",
    "driver.get(\"https://web.whatsapp.com/\")\n",
    "time.sleep(30)\n",
    "user=driver.find_element_by_xpath('//span[@title=\"Lambu\"]')\n",
    "time.sleep(3)\n",
    "user.click()\n",
    "time.sleep(15)\n",
    "msg=driver.find_element_by_class_name('_3F6QL')\n",
    "time.sleep(10)\n",
    "for i in range(10):\n",
    "    r= sr.Recognizer()\n",
    "    text=\"hello\"\n",
    "    with sr.Microphone() as source:\n",
    "        print(\"speak\")\n",
    "        r.adjust_for_ambient_noise(source)\n",
    "        audio= r.listen(source)\n",
    "        try:\n",
    "            text= r.recognize_google(audio)\n",
    "            print(text)\n",
    "        except:\n",
    "            print(\"jhefw\")\n",
    "    if text==\"Exit\":\n",
    "        break\n",
    "    msg.send_keys(text)\n",
    "    b=driver.find_element_by_class_name('_35EW6')\n",
    "    b.click()"
   ]
  },
  {
   "cell_type": "code",
   "execution_count": null,
   "metadata": {},
   "outputs": [],
   "source": []
  }
 ],
 "metadata": {
  "kernelspec": {
   "display_name": "Python 3",
   "language": "python",
   "name": "python3"
  },
  "language_info": {
   "codemirror_mode": {
    "name": "ipython",
    "version": 3
   },
   "file_extension": ".py",
   "mimetype": "text/x-python",
   "name": "python",
   "nbconvert_exporter": "python",
   "pygments_lexer": "ipython3",
   "version": "3.6.5"
  }
 },
 "nbformat": 4,
 "nbformat_minor": 2
}
